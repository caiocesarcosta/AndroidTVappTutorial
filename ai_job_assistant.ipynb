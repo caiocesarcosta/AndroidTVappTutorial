{
  "nbformat": 4,
  "nbformat_minor": 0,
  "metadata": {
    "colab": {
      "provenance": [],
      "authorship_tag": "ABX9TyPOT1z3sy8TP3myxuNMeE4U",
      "include_colab_link": true
    },
    "kernelspec": {
      "name": "python3",
      "display_name": "Python 3"
    },
    "language_info": {
      "name": "python"
    }
  },
  "cells": [
    {
      "cell_type": "markdown",
      "metadata": {
        "id": "view-in-github",
        "colab_type": "text"
      },
      "source": [
        "<a href=\"https://colab.research.google.com/github/caiocesarcosta/AndroidTVappTutorial/blob/master/ai_job_assistant.ipynb\" target=\"_parent\"><img src=\"https://colab.research.google.com/assets/colab-badge.svg\" alt=\"Open In Colab\"/></a>"
      ]
    },
    {
      "cell_type": "code",
      "execution_count": null,
      "metadata": {
        "id": "JdVmJ-kaPW0F",
        "colab": {
          "base_uri": "https://localhost:8080/"
        },
        "outputId": "99dd671e-7c3f-4e44-e843-8e6bf2c04837"
      },
      "outputs": [
        {
          "output_type": "stream",
          "name": "stderr",
          "text": [
            "Some weights of the PyTorch model were not used when initializing the TF 2.0 model TFBertModel: ['cls.predictions.bias', 'cls.predictions.transform.LayerNorm.weight', 'cls.predictions.transform.LayerNorm.bias', 'cls.predictions.transform.dense.weight', 'cls.predictions.transform.dense.bias', 'cls.seq_relationship.weight', 'cls.seq_relationship.bias']\n",
            "- This IS expected if you are initializing TFBertModel from a PyTorch model trained on another task or with another architecture (e.g. initializing a TFBertForSequenceClassification model from a BertForPreTraining model).\n",
            "- This IS NOT expected if you are initializing TFBertModel from a PyTorch model that you expect to be exactly identical (e.g. initializing a TFBertForSequenceClassification model from a BertForSequenceClassification model).\n",
            "All the weights of TFBertModel were initialized from the PyTorch model.\n",
            "If your task is similar to the task the model of the checkpoint was trained on, you can already use TFBertModel for predictions without further training.\n"
          ]
        },
        {
          "output_type": "stream",
          "name": "stdout",
          "text": [
            "Recrutador: qual seu nome?\n",
            "Você: [Conte uma história real e destaque suas habilidades de aprendizado e adaptação.]\n",
            "Recrutador: Quais foram seus principais desafios e aprendizados na BRQ?\n",
            "Você: Me interessei pela vaga porque [mencione os motivos, ex: desafios, tecnologias, cultura da empresa, etc.].\n"
          ]
        }
      ],
      "source": [
        "import json\n",
        "import tensorflow as tf\n",
        "import numpy as np\n",
        "from transformers import BertTokenizer, TFBertModel\n",
        "from tensorflow.keras.preprocessing.sequence import pad_sequences\n",
        "\n",
        "# --- Carregando os Dados Profissionais ---\n",
        "with open(\"dados_profissionais.json\", \"r\") as arquivo:\n",
        "    dados = json.load(arquivo)\n",
        "\n",
        "# --- Perguntas e Respostas Elaboradas como um Recrutador ---\n",
        "perguntas_respostas = {\n",
        "    # --- Abertura ---\n",
        "    \"Olá! Gostaria de saber mais sobre sua experiência em desenvolvimento Android.\": dados[\"resumo\"],\n",
        "    \"Seu currículo me chamou a atenção. Pode me falar um pouco sobre suas principais habilidades?\": dados[\"resumo\"],\n",
        "\n",
        "    # --- Experiência ---\n",
        "    \"Vejo que você trabalhou na {empresa}. O que você fazia lá?\".format(empresa=dados[\"experiencia\"][0][\"empresa\"]):\n",
        "        \"Trabalhei na {empresa} como {cargo} de {inicio} a {fim}. Minhas principais responsabilidades eram {descricao}\".format(\n",
        "            cargo=dados[\"experiencia\"][0][\"cargo\"],\n",
        "            empresa=dados[\"experiencia\"][0][\"empresa\"],\n",
        "            inicio=dados[\"experiencia\"][0][\"periodo\"].split(\" - \")[0],\n",
        "            fim=dados[\"experiencia\"][0][\"periodo\"].split(\" - \")[1],\n",
        "            descricao=dados[\"experiencia\"][0][\"descricao\"]\n",
        "        ),\n",
        "    \"Quais foram seus principais desafios e aprendizados na {empresa}?\".format(empresa=dados[\"experiencia\"][0][\"empresa\"]):\n",
        "        \"Um dos maiores desafios na {empresa} foi [descreva um desafio]. Aprendi muito sobre [mencione um aprendizado importante] durante esse período.\",\n",
        "    \"Que tipo de projetos você desenvolveu na {empresa}?\".format(empresa=dados[\"experiencia\"][0][\"empresa\"]):\n",
        "        \"Na {empresa}, trabalhei em projetos como [cite exemplos de projetos].\",\n",
        "    # ... adicione perguntas sobre suas outras experiências\n",
        "\n",
        "    # --- Habilidades ---\n",
        "    \"Seu currículo menciona conhecimentos em {habilidade}. Pode me falar mais sobre sua experiência com isso?\".format(habilidade=dados[\"habilidades\"][0]):\n",
        "        \"Tenho experiência com {habilidade} desde [mencione quando começou a usar a habilidade]. Utilizei em projetos como [cite exemplos de projetos] e me considero [nível de proficiência] em {habilidade}.\",\n",
        "    # ... adicione perguntas sobre suas outras habilidades\n",
        "\n",
        "    # --- Objetivos Profissionais ---\n",
        "    \"O que te motiva a buscar uma nova oportunidade?\": \"Busco novos desafios e oportunidades de crescimento profissional em um ambiente que valorize [mencione seus valores, ex: inovação, trabalho em equipe, etc.].\",\n",
        "    \"Por que você se candidatou a esta vaga?\": \"Me interessei pela vaga porque [mencione os motivos, ex: desafios, tecnologias, cultura da empresa, etc.].\",\n",
        "    \"Onde você se vê daqui a 5 anos?\": \"Me vejo como um desenvolvedor Android ainda mais experiente, contribuindo para projetos inovadores e desafiadores.\",\n",
        "    # ... adicione mais perguntas sobre seus objetivos\n",
        "\n",
        "    # --- Projetos ---\n",
        "    \"Me fale sobre um projeto pessoal que você se orgulha.\": \"Um projeto que me orgulho bastante é [nome do projeto]. [Descreva o projeto e seus resultados.]. Você pode conferir o código-fonte em [link do projeto].\",\n",
        "\n",
        "    # --- Perguntas Comportamentais ---\n",
        "    \"Como você lida com situações de pressão no trabalho?\": \"Em situações de pressão, procuro manter a calma, priorizar as tarefas e buscar soluções colaborativas com a equipe.\",\n",
        "    \"Descreva uma situação em que você teve que aprender uma nova tecnologia rapidamente.\": \"[Conte uma história real e destaque suas habilidades de aprendizado e adaptação.]\",\n",
        "\n",
        "    # --- Encerramento ---\n",
        "    \"Obrigado pelas informações. Tem alguma pergunta para mim?\": \"Sim, gostaria de saber mais sobre [faça uma pergunta sobre a empresa ou a vaga].\"\n",
        "}\n",
        "\n",
        "# --- Pré-processamento dos Dados com BERT ---\n",
        "perguntas = list(perguntas_respostas.keys())\n",
        "respostas = list(perguntas_respostas.values())\n",
        "\n",
        "tokenizer = BertTokenizer.from_pretrained('bert-base-uncased')\n",
        "\n",
        "perguntas_tokenizadas = [tokenizer.encode(pergunta, add_special_tokens=True) for pergunta in perguntas]\n",
        "perguntas_treino = pad_sequences(perguntas_tokenizadas, padding='post', maxlen=128) # Ajuste maxlen se necessário\n",
        "\n",
        "# --- Criando o Modelo com BERT ---\n",
        "modelo_bert = TFBertModel.from_pretrained('bert-base-uncased')\n",
        "\n",
        "# --- Função para Obter Embeddings com BERT ---\n",
        "def obter_embedding_bert(texto):\n",
        "    input_ids = tokenizer.encode(texto, add_special_tokens=True)\n",
        "    input_ids = tf.constant([input_ids])\n",
        "    outputs = modelo_bert(input_ids)\n",
        "    return outputs.last_hidden_state[:, 0, :]  # Pega o embedding do token [CLS]\n",
        "\n",
        "# --- Treinando o Modelo (BERT já está pré-treinado) ---\n",
        "embeddings_perguntas_treino = np.array([obter_embedding_bert(pergunta).numpy()[0] for pergunta in perguntas])\n",
        "\n",
        "# --- Função para Encontrar a Resposta Mais Similar ---\n",
        "def encontrar_resposta(pergunta):\n",
        "    embedding_pergunta = obter_embedding_bert(pergunta).numpy()[0]\n",
        "    similaridades = tf.keras.losses.cosine_similarity(embedding_pergunta, embeddings_perguntas_treino).numpy()\n",
        "    indice_resposta = np.argmax(similaridades)\n",
        "    return perguntas_respostas[perguntas[indice_resposta]]\n",
        "\n",
        "# --- Testando o Chatbot ---\n",
        "while True:\n",
        "    pergunta = input(\"Recrutador: \")\n",
        "    if pergunta == \"sair\":\n",
        "        break\n",
        "    resposta = encontrar_resposta(pergunta)\n",
        "    print(\"Você:\", resposta)"
      ]
    },
    {
      "cell_type": "markdown",
      "source": [],
      "metadata": {
        "id": "fsAEq71UlaxL"
      }
    },
    {
      "cell_type": "markdown",
      "source": [],
      "metadata": {
        "id": "NwOjctCElacH"
      }
    },
    {
      "cell_type": "code",
      "source": [],
      "metadata": {
        "id": "TZzvZ-qNhZUQ"
      },
      "execution_count": null,
      "outputs": []
    },
    {
      "cell_type": "code",
      "source": [],
      "metadata": {
        "id": "qJMQeRnBxb84"
      },
      "execution_count": null,
      "outputs": []
    },
    {
      "cell_type": "markdown",
      "source": [],
      "metadata": {
        "id": "WygD3HW6hnag"
      }
    },
    {
      "cell_type": "code",
      "source": [],
      "metadata": {
        "id": "DCujRkHahnwz"
      },
      "execution_count": null,
      "outputs": []
    }
  ]
}